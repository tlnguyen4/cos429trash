{
 "cells": [
  {
   "cell_type": "code",
   "execution_count": 10,
   "metadata": {},
   "outputs": [],
   "source": [
    "import pandas as pd"
   ]
  },
  {
   "cell_type": "code",
   "execution_count": 18,
   "metadata": {},
   "outputs": [
    {
     "name": "stdout",
     "output_type": "stream",
     "text": [
      "finish\n"
     ]
    }
   ],
   "source": [
    "x = [('cardboard', 404, 2), ('glass', 502, 0), ('metal', 411, 4), ('paper', 595, 1), ('plastic', 483, 3), ('trash', 138, 5)]\n",
    "\n",
    "idpd = pd.DataFrame(columns=['id', 'label'])\n",
    "\n",
    "for k in x:\n",
    "    idx = k[0]\n",
    "    n = k[1]\n",
    "    lab = k[2]\n",
    "    \n",
    "    for i in range(1, n):\n",
    "        iden = idx + str(i)\n",
    "        idpd = idpd.append({'id': iden,\n",
    "                                  'label': lab}, ignore_index = True)\n",
    "    \n",
    "tocsv = idpd.to_csv('totallabel.csv', index = None, header=True)\n",
    "print(\"finish\")"
   ]
  },
  {
   "cell_type": "code",
   "execution_count": null,
   "metadata": {},
   "outputs": [],
   "source": []
  }
 ],
 "metadata": {
  "kernelspec": {
   "display_name": "Python 3",
   "language": "python",
   "name": "python3"
  },
  "language_info": {
   "codemirror_mode": {
    "name": "ipython",
    "version": 3
   },
   "file_extension": ".py",
   "mimetype": "text/x-python",
   "name": "python",
   "nbconvert_exporter": "python",
   "pygments_lexer": "ipython3",
   "version": "3.7.3"
  }
 },
 "nbformat": 4,
 "nbformat_minor": 2
}
